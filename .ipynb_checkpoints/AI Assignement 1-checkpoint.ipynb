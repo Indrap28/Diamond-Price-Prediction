{
 "cells": [
  {
   "cell_type": "markdown",
   "id": "2970b079",
   "metadata": {},
   "source": [
    "## Write a program that takes your name and age using input() and Print the statement."
   ]
  },
  {
   "cell_type": "code",
   "execution_count": null,
   "id": "a58cff00",
   "metadata": {},
   "outputs": [],
   "source": []
  },
  {
   "cell_type": "markdown",
   "id": "f043641d",
   "metadata": {},
   "source": [
    "## Use len() function to tell the length of a string.\n",
    "msg=”Datascience helps to understand insight of data”\n"
   ]
  },
  {
   "cell_type": "code",
   "execution_count": null,
   "id": "e1a5346a",
   "metadata": {},
   "outputs": [],
   "source": []
  },
  {
   "cell_type": "markdown",
   "id": "8e407ed0",
   "metadata": {},
   "source": [
    "## Slice the word so that you get \"Intelligence\".\n",
    "Word=” Artificial Intelligence”\n"
   ]
  },
  {
   "cell_type": "code",
   "execution_count": null,
   "id": "7aa93e45",
   "metadata": {},
   "outputs": [],
   "source": []
  },
  {
   "cell_type": "markdown",
   "id": "b291bce8",
   "metadata": {},
   "source": [
    "## Write a function which adds two numbers."
   ]
  },
  {
   "cell_type": "code",
   "execution_count": null,
   "id": "52f50a6f",
   "metadata": {},
   "outputs": [],
   "source": []
  },
  {
   "cell_type": "code",
   "execution_count": null,
   "id": "ea9ae78e",
   "metadata": {},
   "outputs": [],
   "source": []
  },
  {
   "cell_type": "markdown",
   "id": "9492c865",
   "metadata": {},
   "source": [
    "## Write a dictionary with any 3 car brands and their 2 models. Print key and values."
   ]
  },
  {
   "cell_type": "code",
   "execution_count": null,
   "id": "223c858a",
   "metadata": {},
   "outputs": [],
   "source": []
  },
  {
   "cell_type": "markdown",
   "id": "a138fa2b",
   "metadata": {},
   "source": [
    "## Create a null vector of size 10."
   ]
  },
  {
   "cell_type": "code",
   "execution_count": null,
   "id": "58049c4c",
   "metadata": {},
   "outputs": [],
   "source": []
  },
  {
   "cell_type": "markdown",
   "id": "40e07716",
   "metadata": {},
   "source": [
    "## Create a list with values ranging from 10 to 49 using arrange()."
   ]
  },
  {
   "cell_type": "code",
   "execution_count": null,
   "id": "fefae914",
   "metadata": {},
   "outputs": [],
   "source": []
  },
  {
   "cell_type": "markdown",
   "id": "3074e2ce",
   "metadata": {},
   "source": [
    "## Create a 3x3 matrix with values ranging from 0 to 8 "
   ]
  },
  {
   "cell_type": "code",
   "execution_count": null,
   "id": "d9e23b41",
   "metadata": {},
   "outputs": [],
   "source": []
  },
  {
   "cell_type": "markdown",
   "id": "9013b7c9",
   "metadata": {},
   "source": [
    "## Create a list of 5 elements and convert it into Pandas Series"
   ]
  },
  {
   "cell_type": "code",
   "execution_count": null,
   "id": "383fac36",
   "metadata": {},
   "outputs": [],
   "source": []
  },
  {
   "cell_type": "markdown",
   "id": "b5236b00",
   "metadata": {},
   "source": [
    "## Create Pandas Dataframes from Dictionary with any 4 Indian States, their Capital and their Chief Minister."
   ]
  },
  {
   "cell_type": "code",
   "execution_count": null,
   "id": "41303c54",
   "metadata": {},
   "outputs": [],
   "source": []
  },
  {
   "cell_type": "code",
   "execution_count": null,
   "id": "515b5681",
   "metadata": {},
   "outputs": [],
   "source": []
  },
  {
   "cell_type": "code",
   "execution_count": null,
   "id": "74339bd7",
   "metadata": {},
   "outputs": [],
   "source": []
  }
 ],
 "metadata": {
  "kernelspec": {
   "display_name": "Python 3 (ipykernel)",
   "language": "python",
   "name": "python3"
  },
  "language_info": {
   "codemirror_mode": {
    "name": "ipython",
    "version": 3
   },
   "file_extension": ".py",
   "mimetype": "text/x-python",
   "name": "python",
   "nbconvert_exporter": "python",
   "pygments_lexer": "ipython3",
   "version": "3.9.13"
  }
 },
 "nbformat": 4,
 "nbformat_minor": 5
}
