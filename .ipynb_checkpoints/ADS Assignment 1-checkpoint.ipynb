{
 "cells": [
  {
   "cell_type": "markdown",
   "id": "10385dc9",
   "metadata": {},
   "source": [
    "## Assign your Name to variable name and Age to variable age. Make a Python program that prints your name and age."
   ]
  },
  {
   "cell_type": "code",
   "execution_count": null,
   "id": "76a82cd7",
   "metadata": {},
   "outputs": [],
   "source": [
    "name=\" \"\n",
    "age=\" \"\n",
    "print(\" My Name is \"+______+ \" and I am \"+ _____+ \" years old\"  )"
   ]
  },
  {
   "cell_type": "code",
   "execution_count": null,
   "id": "d028c44f",
   "metadata": {},
   "outputs": [],
   "source": []
  },
  {
   "cell_type": "markdown",
   "id": "7273833f",
   "metadata": {},
   "source": [
    "## Split the string\n"
   ]
  },
  {
   "cell_type": "code",
   "execution_count": null,
   "id": "7b4f37bc",
   "metadata": {},
   "outputs": [],
   "source": [
    "X=\"Datascience is used to extract meaningful insights.\""
   ]
  },
  {
   "cell_type": "code",
   "execution_count": null,
   "id": "f467a238",
   "metadata": {},
   "outputs": [],
   "source": []
  },
  {
   "cell_type": "markdown",
   "id": "2b4869d2",
   "metadata": {},
   "source": [
    "## Make a function that gives multiplication of two numbers"
   ]
  },
  {
   "cell_type": "code",
   "execution_count": null,
   "id": "9dfda8d2",
   "metadata": {},
   "outputs": [],
   "source": []
  },
  {
   "cell_type": "code",
   "execution_count": null,
   "id": "851f1ea1",
   "metadata": {},
   "outputs": [],
   "source": []
  },
  {
   "cell_type": "markdown",
   "id": "7e6d555e",
   "metadata": {},
   "source": [
    "## Create a Dictionary of 5 States with their capitals. also print the keys and values."
   ]
  },
  {
   "cell_type": "code",
   "execution_count": null,
   "id": "5c1973a5",
   "metadata": {},
   "outputs": [],
   "source": [
    "# Dict={\"State1\":\"Capital1\",\"State2\":\"Capital2\",\"State3\":\"Capital3\",\"State4\":\"Capital5\",\"State5\":\"Capital5\"}\n",
    "# Dict.keys()\n",
    "# Dict.values()"
   ]
  },
  {
   "cell_type": "code",
   "execution_count": null,
   "id": "c73ffb19",
   "metadata": {},
   "outputs": [],
   "source": []
  },
  {
   "cell_type": "code",
   "execution_count": null,
   "id": "979902cf",
   "metadata": {},
   "outputs": [],
   "source": []
  },
  {
   "cell_type": "markdown",
   "id": "5522fefd",
   "metadata": {},
   "source": [
    "## In this Disctionary grab the word Welcome"
   ]
  },
  {
   "cell_type": "code",
   "execution_count": null,
   "id": "8bed32e3",
   "metadata": {},
   "outputs": [],
   "source": [
    "Dict = {'Universe':[1,2,3,{'World':['Earth','India','Delhi',{'value':[1,2,3,'Welcome']}]}]}"
   ]
  },
  {
   "cell_type": "code",
   "execution_count": null,
   "id": "4fe5981c",
   "metadata": {},
   "outputs": [],
   "source": []
  },
  {
   "cell_type": "markdown",
   "id": "5d705d3e",
   "metadata": {},
   "source": [
    "## Create a list of 10 numbers using range function."
   ]
  },
  {
   "cell_type": "code",
   "execution_count": null,
   "id": "2c6ed27c",
   "metadata": {},
   "outputs": [],
   "source": [
    "# x = list(range(y))\n",
    "# print(y)"
   ]
  },
  {
   "cell_type": "code",
   "execution_count": null,
   "id": "e1bb269c",
   "metadata": {},
   "outputs": [],
   "source": []
  },
  {
   "cell_type": "markdown",
   "id": "c116c9e6",
   "metadata": {},
   "source": [
    "## Create an identity matrix of dimension 4 by 4"
   ]
  },
  {
   "cell_type": "code",
   "execution_count": null,
   "id": "1ae8ca2d",
   "metadata": {},
   "outputs": [],
   "source": []
  },
  {
   "cell_type": "code",
   "execution_count": null,
   "id": "993d32af",
   "metadata": {},
   "outputs": [],
   "source": []
  },
  {
   "cell_type": "markdown",
   "id": "b467b6b2",
   "metadata": {},
   "source": [
    "## Create 2 similar dimensional array and concatenate them."
   ]
  },
  {
   "cell_type": "code",
   "execution_count": null,
   "id": "2345c11c",
   "metadata": {},
   "outputs": [],
   "source": []
  },
  {
   "cell_type": "markdown",
   "id": "fcf88881",
   "metadata": {},
   "source": [
    "## Generate the series of dates from 1st Feb, 2023 to 1st March, 2023 (both inclusive)"
   ]
  },
  {
   "cell_type": "code",
   "execution_count": null,
   "id": "49adf410",
   "metadata": {},
   "outputs": [],
   "source": []
  },
  {
   "cell_type": "markdown",
   "id": "6cdc67af",
   "metadata": {},
   "source": [
    "## Given a dictionary, convert it into corresponding dataframe and display it\n",
    "dictionary = {'Brand': ['Maruti', 'Renault', 'Hyndai'], 'Sales' : [250, 200, 240]}\n"
   ]
  },
  {
   "cell_type": "code",
   "execution_count": null,
   "id": "8ced98d7",
   "metadata": {},
   "outputs": [],
   "source": []
  }
 ],
 "metadata": {
  "kernelspec": {
   "display_name": "Python 3 (ipykernel)",
   "language": "python",
   "name": "python3"
  },
  "language_info": {
   "codemirror_mode": {
    "name": "ipython",
    "version": 3
   },
   "file_extension": ".py",
   "mimetype": "text/x-python",
   "name": "python",
   "nbconvert_exporter": "python",
   "pygments_lexer": "ipython3",
   "version": "3.9.13"
  }
 },
 "nbformat": 4,
 "nbformat_minor": 5
}
